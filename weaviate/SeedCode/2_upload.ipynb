{
 "cells": [
  {
   "cell_type": "code",
   "execution_count": null,
   "id": "416e6a34-50c3-4d44-9acb-5caded50ef55",
   "metadata": {
    "tags": []
   },
   "outputs": [],
   "source": [
    "!pip install weaviate-client --quiet"
   ]
  },
  {
   "cell_type": "code",
   "execution_count": null,
   "id": "240cb3be-e095-4919-8585-bf5a19f4a106",
   "metadata": {
    "tags": []
   },
   "outputs": [],
   "source": [
    "import ast\n",
    "import json\n",
    "from langchain.text_splitter import CharacterTextSplitter, RecursiveCharacterTextSplitter\n",
    "import pandas as pd\n",
    "import weaviate"
   ]
  },
  {
   "cell_type": "code",
   "execution_count": null,
   "id": "ebab37f7-f8d6-4378-ae56-68cc665cbc73",
   "metadata": {
    "tags": []
   },
   "outputs": [],
   "source": [
    "wv_client = weaviate.Client(url=\"http://k8s-weaviate-weaviate-f1e22650f9-583768105cf15612.elb.us-west-2.amazonaws.com\") # TODO - add to env vars"
   ]
  },
  {
   "cell_type": "code",
   "execution_count": null,
   "id": "46d1b707-33e5-4416-852b-37b502760edc",
   "metadata": {
    "tags": []
   },
   "outputs": [],
   "source": [
    "bucket = 'weaviate-20230718214239852900000002' # TODO - add to env vars"
   ]
  },
  {
   "cell_type": "code",
   "execution_count": null,
   "id": "f16b871b-2f8a-410a-990a-bbe54c54225f",
   "metadata": {
    "tags": []
   },
   "outputs": [],
   "source": [
    "# ===== Import data =====\n",
    "# Configure the batch import\n",
    "wv_client.batch.configure(\n",
    "    batch_size=100,\n",
    ")\n",
    "\n",
    "# Settings for displaying the import progress\n",
    "counter = 0\n",
    "interval = 1000  # print progress every this many records"
   ]
  },
  {
   "cell_type": "code",
   "execution_count": null,
   "id": "ed9de920-f8dd-4591-a83f-c62b8d463d87",
   "metadata": {
    "tags": []
   },
   "outputs": [],
   "source": [
    "def get_iterator():\n",
    "    csv_iterator = pd.read_csv(\n",
    "        f's3://{bucket}/vector_database_wikipedia_articles_embedded.csv',\n",
    "        usecols=['id', 'url', 'title', 'text', 'content_vector'],\n",
    "        chunksize=100,  # number of rows per chunk\n",
    "        #nrows=100  # optionally limit the number of rows to import\n",
    "    )\n",
    "\n",
    "    return csv_iterator"
   ]
  },
  {
   "cell_type": "code",
   "execution_count": null,
   "id": "2c6876f1-c2e3-4da6-a451-16c99fc42026",
   "metadata": {
    "tags": []
   },
   "outputs": [],
   "source": [
    "# review one row of data\n",
    "\n",
    "# Create a pandas dataframe iterator with lazy-loading,\n",
    "# so we don't load all records in RAM at once.\n",
    "csv_iterator = get_iterator()\n",
    "\n",
    "for chunk in csv_iterator:\n",
    "    for index, row in chunk.iterrows():\n",
    "        title = row.title\n",
    "        content = row.text\n",
    "        url = row.url\n",
    "        vector = ast.literal_eval(row.content_vector)\n",
    "        break\n",
    "    break"
   ]
  },
  {
   "cell_type": "code",
   "execution_count": null,
   "id": "c32810f1-68b4-403a-a771-23466be7dfa0",
   "metadata": {
    "tags": []
   },
   "outputs": [],
   "source": [
    "title"
   ]
  },
  {
   "cell_type": "code",
   "execution_count": null,
   "id": "01e92431-a899-40d9-9391-978c4f715fec",
   "metadata": {
    "tags": []
   },
   "outputs": [],
   "source": [
    "content[:1000]"
   ]
  },
  {
   "cell_type": "code",
   "execution_count": null,
   "id": "edbef6bf-0e84-4c21-966a-a3fe8698ef12",
   "metadata": {
    "tags": []
   },
   "outputs": [],
   "source": [
    "url"
   ]
  },
  {
   "cell_type": "code",
   "execution_count": null,
   "id": "2d675350-8def-411a-97e2-8179ace868ee",
   "metadata": {
    "tags": []
   },
   "outputs": [],
   "source": [
    "vector[:10]"
   ]
  },
  {
   "cell_type": "code",
   "execution_count": null,
   "id": "26552460-5d19-482e-ba7f-bbbc1be876e4",
   "metadata": {
    "tags": []
   },
   "outputs": [],
   "source": [
    "len(vector)"
   ]
  },
  {
   "cell_type": "code",
   "execution_count": null,
   "id": "083cc047-e251-490d-bf1c-d5521191a41b",
   "metadata": {
    "tags": []
   },
   "outputs": [],
   "source": [
    "# re-create iterator\n",
    "csv_iterator = get_iterator()"
   ]
  },
  {
   "cell_type": "code",
   "execution_count": null,
   "id": "5fa16864-bd9e-4da5-a855-c27ae41dd1a3",
   "metadata": {
    "tags": []
   },
   "outputs": [],
   "source": [
    "# Iterate through the dataframe chunks and add each CSV record to the batch\n",
    "for chunk in csv_iterator:\n",
    "    for index, row in chunk.iterrows():\n",
    "\n",
    "        content = row.text\n",
    "\n",
    "        access_terms = ['france','art','car','football','sports','food','travel']\n",
    "        c_access = []\n",
    "        for term in access_terms:\n",
    "            if term in content.lower():\n",
    "                c_access.append(term)\n",
    "\n",
    "\n",
    "        if len(c_access) == 0:\n",
    "            c_access.append('open')\n",
    "\n",
    "        properties = {\n",
    "            \"title\": row.title,\n",
    "            \"content\": content,\n",
    "            \"url\": row.url,\n",
    "            \"c_access\": c_access\n",
    "        }\n",
    "\n",
    "        # Convert the vector from CSV string back to array of floats\n",
    "        vector = ast.literal_eval(row.content_vector)\n",
    "\n",
    "        # Add the object to the batch, and set its vector embedding\n",
    "        wv_client.batch.add_data_object(properties, \"ArticleNoTransformer\", vector=vector)\n",
    "\n",
    "        # Calculate and display progress\n",
    "        counter += 1\n",
    "        if counter % interval == 0:\n",
    "            print(f\"Imported {counter} articles...\")\n",
    "\n",
    "wv_client.batch.flush()\n",
    "print(f\"Finished importing {counter} articles.\")"
   ]
  },
  {
   "cell_type": "code",
   "execution_count": null,
   "id": "9fdf2854-a943-479c-a779-377159e2780b",
   "metadata": {
    "tags": []
   },
   "outputs": [],
   "source": [
    "# re-create iterator\n",
    "csv_iterator = get_iterator()"
   ]
  },
  {
   "cell_type": "code",
   "execution_count": null,
   "id": "f2b46748-fcf3-44f3-9c74-152784648053",
   "metadata": {
    "tags": []
   },
   "outputs": [],
   "source": [
    "# Iterate through the dataframe chunks and add each CSV record to the batch\n",
    "counter = 0\n",
    "for chunk in csv_iterator:\n",
    "    for index, row in chunk.iterrows():\n",
    "\n",
    "        content = row.text\n",
    "\n",
    "        access_terms = ['france','art','car','football','sports','food','travel']\n",
    "        c_access = []\n",
    "        for term in access_terms:\n",
    "            if term in content.lower():\n",
    "                c_access.append(term)\n",
    "\n",
    "        if len(c_access) == 0:\n",
    "            c_access.append('open')\n",
    "\n",
    "        properties = {\n",
    "            \"title\": row.title,\n",
    "            \"content\": content,\n",
    "            \"url\": row.url,\n",
    "            \"c_access\": c_access\n",
    "        }\n",
    "\n",
    "\n",
    "        # Add the object to the batch, and allow Weaviate to create the embedding \n",
    "        # NOTE this import will be slower as the text needs to be embedded \n",
    "        wv_client.batch.add_data_object(properties, \"Article\")\n",
    "\n",
    "        # Calculate and display progress\n",
    "        counter += 1\n",
    "        if counter % interval == 0:\n",
    "            print(f\"Imported {counter} articles...\")\n",
    "\n",
    "wv_client.batch.flush()\n",
    "print(f\"Finished importing {counter} articles.\")"
   ]
  },
  {
   "cell_type": "code",
   "execution_count": null,
   "id": "da2a3bfe-6e75-47dd-8d45-ea7a906a52de",
   "metadata": {
    "tags": []
   },
   "outputs": [],
   "source": [
    "# validate counts\n",
    "response = (\n",
    "    wv_client.query\n",
    "    .aggregate(\"Article\")\n",
    "    .with_meta_count()\n",
    "    .do()\n",
    ")\n",
    "\n",
    "print(json.dumps(response, indent=2))"
   ]
  },
  {
   "cell_type": "code",
   "execution_count": null,
   "id": "dd399423-f1a7-4969-94e6-f912a938df2f",
   "metadata": {
    "tags": []
   },
   "outputs": [],
   "source": [
    "# validate counts\n",
    "response = (\n",
    "    wv_client.query\n",
    "    .aggregate(\"ArticleNoTransformer\")\n",
    "    .with_meta_count()\n",
    "    .do()\n",
    ")\n",
    "\n",
    "print(json.dumps(response, indent=2))"
   ]
  },
  {
   "cell_type": "code",
   "execution_count": null,
   "id": "c5e67541-1da9-4621-a601-de6956e64226",
   "metadata": {
    "tags": []
   },
   "outputs": [],
   "source": [
    "# validate vector length\n",
    "result = (\n",
    "    wv_client.query\n",
    "    .get(\"Article\")\n",
    "    .with_additional(\"vector\")\n",
    "    .with_limit(1)\n",
    "    .do()\n",
    ")\n",
    "\n",
    "vector = result['data']['Get']['Article'][0]['_additional']['vector']\n",
    "len(vector)"
   ]
  },
  {
   "cell_type": "code",
   "execution_count": null,
   "id": "80150714-4f87-40da-8aa5-c598cc6a5f6b",
   "metadata": {
    "tags": []
   },
   "outputs": [],
   "source": [
    "# validate vector length\n",
    "result = (\n",
    "    wv_client.query\n",
    "    .get(\"ArticleCustom\")\n",
    "    .with_additional(\"vector\")\n",
    "    .with_limit(1)\n",
    "    .do()\n",
    ")\n",
    "\n",
    "vector = result['data']['Get']['ArticleCustom'][0]['_additional']['vector']\n",
    "len(vector)"
   ]
  },
  {
   "cell_type": "code",
   "execution_count": null,
   "id": "f12c7db0-b5a3-402e-ac87-3301567d9483",
   "metadata": {},
   "outputs": [],
   "source": []
  }
 ],
 "metadata": {
  "kernelspec": {
   "display_name": "conda_python3",
   "language": "python",
   "name": "conda_python3"
  },
  "language_info": {
   "codemirror_mode": {
    "name": "ipython",
    "version": 3
   },
   "file_extension": ".py",
   "mimetype": "text/x-python",
   "name": "python",
   "nbconvert_exporter": "python",
   "pygments_lexer": "ipython3",
   "version": "3.10.10"
  }
 },
 "nbformat": 4,
 "nbformat_minor": 5
}
