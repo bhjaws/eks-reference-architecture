{
 "cells": [
  {
   "cell_type": "markdown",
   "id": "1668d8aa-c998-4f76-bb5a-73e810ff49f5",
   "metadata": {
    "tags": []
   },
   "source": [
    "<b>\n",
    "Note that this is meant as an introductory and not a comprehensive tutorial.  See the Weaviate documentation for more detail. \n",
    "\n",
    "https://weaviate.io/developers/weaviate/search\n",
    "<b>"
   ]
  },
  {
   "cell_type": "code",
   "execution_count": null,
   "id": "416e6a34-50c3-4d44-9acb-5caded50ef55",
   "metadata": {
    "tags": []
   },
   "outputs": [],
   "source": [
    "!pip install weaviate-client --quiet"
   ]
  },
  {
   "cell_type": "code",
   "execution_count": null,
   "id": "240cb3be-e095-4919-8585-bf5a19f4a106",
   "metadata": {
    "tags": []
   },
   "outputs": [],
   "source": [
    "import ast\n",
    "import json\n",
    "import pandas as pd\n",
    "import weaviate"
   ]
  },
  {
   "cell_type": "code",
   "execution_count": null,
   "id": "ebab37f7-f8d6-4378-ae56-68cc665cbc73",
   "metadata": {
    "tags": []
   },
   "outputs": [],
   "source": [
    "wv_client = weaviate.Client(url=\"http://k8s-weaviate-weaviate-f1e22650f9-583768105cf15612.elb.us-west-2.amazonaws.com\")"
   ]
  },
  {
   "cell_type": "markdown",
   "id": "04b85215-f1ab-49f5-9204-7b020af90ce6",
   "metadata": {},
   "source": [
    "<h1>Basic Search</h1>"
   ]
  },
  {
   "cell_type": "code",
   "execution_count": null,
   "id": "8d0c35de-7bc0-4de7-ad2f-5b1ad9e9977a",
   "metadata": {
    "tags": []
   },
   "outputs": [],
   "source": [
    "response = (\n",
    "    wv_client.query\n",
    "    .get(\"Article\", ['title','content','url','c_access'])\n",
    "    .with_limit(1)\n",
    "    .do()\n",
    ")\n",
    "\n",
    "print(json.dumps(response, indent=2))"
   ]
  },
  {
   "cell_type": "code",
   "execution_count": null,
   "id": "96fc4985-f3c0-477b-b30c-c7a2a26e9e0f",
   "metadata": {
    "tags": []
   },
   "outputs": [],
   "source": [
    "# return the vector associated with the obejct \n",
    "response = (\n",
    "    wv_client.query\n",
    "    .get(\"Article\", ['title','content','url','c_access'])\n",
    "    .with_additional(\"vector\")\n",
    "    .with_limit(1)\n",
    "    .do()\n",
    ")\n",
    "\n",
    "print(json.dumps(response, indent=2))"
   ]
  },
  {
   "cell_type": "markdown",
   "id": "c047f64f-898d-426d-8292-9f339e0f3c60",
   "metadata": {},
   "source": [
    "<h1>Filtering based on metadata</h1>"
   ]
  },
  {
   "cell_type": "code",
   "execution_count": null,
   "id": "4f640a48-1521-44b8-8595-b399ede6099c",
   "metadata": {
    "tags": []
   },
   "outputs": [],
   "source": [
    "where_filter = {\n",
    "    \"path\": [\"c_access\"],\n",
    "    \"operator\": \"Equal\",\n",
    "    \"valueText\": \"france\",\n",
    "}\n",
    "\n",
    "result = (\n",
    "    wv_client.query\n",
    "    .get(\"Article\", ['title','content','url','c_access'])\n",
    "    .with_where(where_filter)\n",
    "    .with_limit(2)\n",
    "    .do()\n",
    ")\n",
    "\n",
    "print(json.dumps(result, indent=2))"
   ]
  },
  {
   "cell_type": "markdown",
   "id": "81654669-c9b6-449a-ad5f-02615d2c55a7",
   "metadata": {},
   "source": [
    "<h1>Aggregate data</h1>"
   ]
  },
  {
   "cell_type": "code",
   "execution_count": null,
   "id": "9cbed3df-1ad2-4ef9-80ba-28c5bb10e715",
   "metadata": {
    "tags": []
   },
   "outputs": [],
   "source": [
    "response = (\n",
    "    wv_client.query\n",
    "    .aggregate(\"Article\")\n",
    "    .with_meta_count()\n",
    "    .do()\n",
    ")\n",
    "\n",
    "print(json.dumps(response, indent=2))"
   ]
  },
  {
   "cell_type": "code",
   "execution_count": null,
   "id": "c6d28bc3-435f-4453-b48d-064ab66eddb2",
   "metadata": {
    "tags": []
   },
   "outputs": [],
   "source": [
    "# combine metadata filtering and aggregation\n",
    "\n",
    "where_filter = {\n",
    "    \"path\": [\"c_access\"],\n",
    "    \"operator\": \"Equal\",\n",
    "    \"valueText\": \"car\",\n",
    "}\n",
    "\n",
    "response = (\n",
    "    wv_client.query\n",
    "    .aggregate(\"Article\")\n",
    "    .with_where(where_filter)\n",
    "    .with_meta_count()\n",
    "    .do()\n",
    ")\n",
    "\n",
    "print(json.dumps(response, indent=2))"
   ]
  },
  {
   "cell_type": "markdown",
   "id": "f1b6cdef-3948-40e6-8ebb-32d2e672e02e",
   "metadata": {},
   "source": [
    "<h1>Similarity / Vector Search</h1>"
   ]
  },
  {
   "cell_type": "code",
   "execution_count": null,
   "id": "e864aabc-ade8-48a7-b6dd-c8957438009c",
   "metadata": {
    "tags": []
   },
   "outputs": [],
   "source": [
    "nearText = {\"concepts\": [\"modern art in Europe\"]}\n",
    "\n",
    "response = (\n",
    "    wv_client.query\n",
    "    .get(\"Article\", ['title','url'])\n",
    "    .with_near_text(nearText)\n",
    "    .with_limit(2)\n",
    "    .with_additional([\"distance\"])\n",
    "    .do()\n",
    ")\n",
    "\n",
    "print(json.dumps(response, indent=2))"
   ]
  },
  {
   "cell_type": "code",
   "execution_count": null,
   "id": "46e08ac3-abf2-48b8-9490-ec15dd055f1c",
   "metadata": {
    "tags": []
   },
   "outputs": [],
   "source": [
    "# NOTE you cannot use \"with_near_text\" to query the class without a transformer, as it is unknown how to embed the text\n",
    "# Instead, we can use \"with_near_vector\"\n",
    "\n",
    "# collect a single vector\n",
    "result = (\n",
    "    wv_client.query\n",
    "    .get(\"ArticleNoTransformer\")\n",
    "    .with_additional(\"vector\")\n",
    "    .with_limit(1)\n",
    "    .do()\n",
    ")\n",
    "\n",
    "vector = result['data']['Get']['ArticleNoTransformer'][0]['_additional']['vector']"
   ]
  },
  {
   "cell_type": "code",
   "execution_count": null,
   "id": "6a59f850-27f1-44d0-96cf-7369e207ccdb",
   "metadata": {
    "tags": []
   },
   "outputs": [],
   "source": [
    "# search for objects near this vector\n",
    "nearVector = {\"vector\": vector}\n",
    "\n",
    "response = (\n",
    "    wv_client.query\n",
    "    .get(\"ArticleNoTransformer\", ['title','url'])\n",
    "    .with_near_vector(nearVector)\n",
    "    .with_limit(2)\n",
    "    .with_additional([\"distance\"])\n",
    "    .do()\n",
    ")\n",
    "\n",
    "print(json.dumps(response, indent=2))"
   ]
  },
  {
   "cell_type": "code",
   "execution_count": null,
   "id": "e90f726b-50bb-4590-951c-5082bedd75f3",
   "metadata": {
    "tags": []
   },
   "outputs": [],
   "source": [
    "# IMPORTANT! The model used to embed your query must be the same as the model used to embed the underlying database (i.e. same vector length)\n",
    "vector = vector[:10]\n",
    "nearVector = {\"vector\": vector}\n",
    "\n",
    "response = (\n",
    "    wv_client.query\n",
    "    .get(\"ArticleNoTransformer\", ['title','url'])\n",
    "    .with_near_vector(nearVector)\n",
    "    .with_limit(2)\n",
    "    .with_additional([\"distance\"])\n",
    "    .do()\n",
    ")\n",
    "\n",
    "print(json.dumps(response, indent=2))"
   ]
  },
  {
   "cell_type": "code",
   "execution_count": null,
   "id": "932eb53e-0164-42ad-87f8-c4e712d0d92b",
   "metadata": {
    "tags": []
   },
   "outputs": [],
   "source": [
    "# NOTE you can also use \"with_near_vector\" in the Class we've enabled Weaviate to create the embeddings\n",
    "\n",
    "# collect a single vector\n",
    "result = (\n",
    "    wv_client.query\n",
    "    .get(\"Article\")\n",
    "    .with_additional(\"vector\")\n",
    "    .with_limit(1)\n",
    "    .do()\n",
    ")\n",
    "\n",
    "vector = result['data']['Get']['Article'][0]['_additional']['vector']\n",
    "\n",
    "# query for objects near the vector\n",
    "nearVector = {\"vector\": vector}\n",
    "\n",
    "response = (\n",
    "    wv_client.query\n",
    "    .get(\"Article\", ['title','url'])\n",
    "    .with_near_vector(nearVector)\n",
    "    .with_limit(2)\n",
    "    .with_additional([\"distance\"])\n",
    "    .do()\n",
    ")\n",
    "\n",
    "print(json.dumps(response, indent=2))"
   ]
  },
  {
   "cell_type": "code",
   "execution_count": null,
   "id": "ec86fc42-e0f7-4c25-8711-3d0d9b6ccc3c",
   "metadata": {
    "tags": []
   },
   "outputs": [],
   "source": [
    "# we can combine metadata filtering and semantic search\n",
    "where_filter = {\n",
    "    \"path\": [\"c_access\"],\n",
    "    \"operator\": \"Equal\",\n",
    "    \"valueText\": \"car\",\n",
    "}\n",
    "\n",
    "nearText = {\"concepts\": [\"modern art in Europe\"]}\n",
    "\n",
    "result = (\n",
    "    wv_client.query\n",
    "    .get(\"Article\", ['title','content','url'])\n",
    "    .with_where(where_filter)\n",
    "    .with_near_text(nearText)\n",
    "    .with_limit(2)\n",
    "    .with_additional([\"distance\"])\n",
    "    .do()\n",
    ")\n",
    "\n",
    "print(json.dumps(result, indent=2))"
   ]
  },
  {
   "cell_type": "code",
   "execution_count": null,
   "id": "26eb1406-f0cf-4800-ab39-4be6a8431890",
   "metadata": {
    "tags": []
   },
   "outputs": [],
   "source": [
    "# ... and we can set a threshold for the distance\n",
    "where_filter = {\n",
    "    \"path\": [\"c_access\"],\n",
    "    \"operator\": \"Equal\",\n",
    "    \"valueText\": \"car\",\n",
    "}\n",
    "\n",
    "max_distance = .25\n",
    "nearText = {\"concepts\": [\"modern art in Europe\"],\n",
    "           \"distance\": max_distance}\n",
    "\n",
    "\n",
    "result = (\n",
    "    wv_client.query\n",
    "    .get(\"Article\", ['title','content','url'])\n",
    "    .with_where(where_filter)\n",
    "    .with_near_text(nearText)\n",
    "    .with_additional([\"distance\"])\n",
    "    .do()\n",
    ")\n",
    "\n",
    "print(json.dumps(result, indent=2))"
   ]
  },
  {
   "cell_type": "markdown",
   "id": "38376ff1-a0d9-4465-8d04-b808c3c31e74",
   "metadata": {},
   "source": [
    "<h1>BM25 / Keyword Search</h1>"
   ]
  },
  {
   "cell_type": "code",
   "execution_count": null,
   "id": "adb1cc1f-af98-4f88-bf58-06929fcb039f",
   "metadata": {
    "tags": []
   },
   "outputs": [],
   "source": [
    "# basic bm25 search\n",
    "response = (\n",
    "    wv_client.query\n",
    "    .get(\"Article\", ['title','content','url','c_access'])\n",
    "    .with_bm25(query=\"food\")\n",
    "    .with_limit(3)\n",
    "    .do()\n",
    ")\n",
    "\n",
    "print(json.dumps(response, indent=2))"
   ]
  },
  {
   "cell_type": "code",
   "execution_count": null,
   "id": "44f60dbf-8e34-44ab-b181-0ed3f50d3005",
   "metadata": {
    "tags": []
   },
   "outputs": [],
   "source": [
    "# return the bm25 algorithm score\n",
    "response = (\n",
    "    wv_client.query\n",
    "    .get(\"Article\", ['title','url'])\n",
    "    .with_bm25(query=\"food\")\n",
    "    .with_limit(3)\n",
    "    .with_additional(\"score\")\n",
    "    .do()\n",
    ")\n",
    "\n",
    "print(json.dumps(response, indent=2))"
   ]
  },
  {
   "cell_type": "code",
   "execution_count": null,
   "id": "0259dce2-55f4-4204-aa1f-d5e70a9d8af6",
   "metadata": {
    "tags": []
   },
   "outputs": [],
   "source": [
    "# perform bm25 search only in specific fields of the object\n",
    "response = (\n",
    "    wv_client.query\n",
    "    .get(\"Article\", ['title','url'])\n",
    "    .with_bm25(query=\"food\", properties=[\"url\"]) # if not provided, all text fields are searched\n",
    "    .with_limit(3)\n",
    "    .with_additional(\"score\")\n",
    "    .do()\n",
    ")\n",
    "\n",
    "print(json.dumps(response, indent=2))"
   ]
  },
  {
   "cell_type": "markdown",
   "id": "c54e3fe4-33f3-4914-9175-80cbfe3fea08",
   "metadata": {},
   "source": [
    "<h1>Hybrid (BM25 + Semantic Vector) Search</h1>"
   ]
  },
  {
   "cell_type": "code",
   "execution_count": null,
   "id": "654bc832-ea21-481d-8dd4-e90e0cd4bb5a",
   "metadata": {
    "tags": []
   },
   "outputs": [],
   "source": [
    "# basic hybrid search\n",
    "response = (\n",
    "    wv_client.query\n",
    "    .get(\"Article\", ['title','url','c_access'])\n",
    "    .with_hybrid(query=\"food\")\n",
    "    .with_limit(3)\n",
    "    .do()\n",
    ")\n",
    "\n",
    "print(json.dumps(response, indent=2))"
   ]
  },
  {
   "cell_type": "code",
   "execution_count": null,
   "id": "5476a75c-85eb-4042-b91b-ff28128fc4ea",
   "metadata": {
    "tags": []
   },
   "outputs": [],
   "source": [
    "# include bm25 score and explanations\n",
    "response = (\n",
    "    wv_client.query\n",
    "    .get(\"Article\", ['title','url','c_access'])\n",
    "    .with_hybrid(query=\"food\")\n",
    "    .with_additional([\"score\", \"explainScore\"])\n",
    "    .with_limit(3)\n",
    "    .do()\n",
    ")\n",
    "\n",
    "print(json.dumps(response, indent=2))"
   ]
  },
  {
   "cell_type": "code",
   "execution_count": null,
   "id": "0a249b13-627c-462c-958d-2c2a4d920fb2",
   "metadata": {
    "tags": []
   },
   "outputs": [],
   "source": [
    "# weight the bm25 and vector scores\n",
    "response = (\n",
    "    wv_client.query\n",
    "    .get(\"Article\", ['title','url','c_access'])\n",
    "    .with_hybrid(query=\"food\", alpha=0.25) # An alpha of 1 is for a pure vector search and 0 is for a pure keyword search\n",
    "    .with_additional([\"score\"])\n",
    "    .with_limit(3)\n",
    "    .do()\n",
    ")\n",
    "\n",
    "print(json.dumps(response, indent=2))"
   ]
  },
  {
   "cell_type": "code",
   "execution_count": null,
   "id": "edc4e308-fc79-4b91-b6d8-c4c24d6bc2e6",
   "metadata": {
    "tags": []
   },
   "outputs": [],
   "source": [
    "# note you can combine metadata filtering with all of these search types\n",
    "\n",
    "where_filter = {\n",
    "    \"path\": [\"c_access\"],\n",
    "    \"operator\": \"Equal\",\n",
    "    \"valueText\": \"france\",\n",
    "}\n",
    "\n",
    "\n",
    "response = (\n",
    "    wv_client.query\n",
    "    .get(\"Article\", ['title','url', 'c_access'])\n",
    "    .with_hybrid(query=\"food\", alpha=0.25) # An alpha of 1 is for a pure vector search and 0 is for a pure keyword search\n",
    "    .with_additional([\"score\"])\n",
    "    .with_where(where_filter)\n",
    "    .with_limit(3)\n",
    "    .do()\n",
    ")\n",
    "\n",
    "print(json.dumps(response, indent=2))"
   ]
  },
  {
   "cell_type": "markdown",
   "id": "6f4f2ee4-9c6c-427e-ac8f-3473aaabb9ea",
   "metadata": {},
   "source": [
    "<h1>Reranking Search</h1>"
   ]
  },
  {
   "cell_type": "code",
   "execution_count": null,
   "id": "e8ec135c-1226-4116-a26b-24535482df0a",
   "metadata": {
    "tags": []
   },
   "outputs": [],
   "source": [
    "# Reranking vector search results\n",
    "# let's say we want to find Q&As about Europe, and further sort towards the top those about capitals of countries.\n",
    "\n",
    "# we can start with searching near the concept of Europe\n",
    "nearText = {\"concepts\": [\"Europe\"]}\n",
    "\n",
    "response = (\n",
    "    wv_client.query\n",
    "    .get(\"Article\", ['title','url'])\n",
    "    .with_near_text(nearText)\n",
    "    .with_additional('distance')\n",
    "    .with_limit(10)\n",
    "    .do()\n",
    ")\n",
    "\n",
    "print(json.dumps(response, indent=2))"
   ]
  },
  {
   "cell_type": "code",
   "execution_count": null,
   "id": "dd4f9d25-71b6-4efe-8f33-4c0a8934c1ad",
   "metadata": {
    "tags": []
   },
   "outputs": [],
   "source": [
    "# and sort to the top those who's \"content\" fields matches the re-rank query for captial\n",
    "\n",
    "nearText = {\"concepts\": [\"Europe\"]}\n",
    "\n",
    "response = (\n",
    "    wv_client.query\n",
    "    .get(\"Article\", ['title','url'])\n",
    "    .with_near_text(nearText)\n",
    "    .with_additional('rerank(property: \"content\" query: \"capital\") { score }')\n",
    "    .with_limit(10)\n",
    "    .do()\n",
    ")\n",
    "\n",
    "print(json.dumps(response, indent=2))"
   ]
  },
  {
   "cell_type": "code",
   "execution_count": null,
   "id": "6e6c9c49-f486-40ce-a02e-34dd3f2e0b79",
   "metadata": {
    "tags": []
   },
   "outputs": [],
   "source": [
    "# rerank bm25 search\n",
    "response = (\n",
    "    wv_client.query\n",
    "    .get(\"Article\", ['title','url'])\n",
    "    .with_bm25(\n",
    "      query='Europe'\n",
    "    )\n",
    "    .with_additional('rerank(property: \"content\" query: \"capital\") { score }')\n",
    "    .with_limit(10)\n",
    "    .do()\n",
    ")\n",
    "\n",
    "print(json.dumps(response, indent=2))"
   ]
  },
  {
   "cell_type": "code",
   "execution_count": null,
   "id": "b1e984cb-56e0-4ac6-a974-3658de64ad99",
   "metadata": {},
   "outputs": [],
   "source": []
  }
 ],
 "metadata": {
  "kernelspec": {
   "display_name": "conda_python3",
   "language": "python",
   "name": "conda_python3"
  },
  "language_info": {
   "codemirror_mode": {
    "name": "ipython",
    "version": 3
   },
   "file_extension": ".py",
   "mimetype": "text/x-python",
   "name": "python",
   "nbconvert_exporter": "python",
   "pygments_lexer": "ipython3",
   "version": "3.10.10"
  }
 },
 "nbformat": 4,
 "nbformat_minor": 5
}
