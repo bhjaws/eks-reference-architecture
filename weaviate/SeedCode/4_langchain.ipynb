{
 "cells": [
  {
   "cell_type": "code",
   "execution_count": null,
   "id": "aa6169e8-361e-4103-824c-410275efa567",
   "metadata": {
    "tags": []
   },
   "outputs": [],
   "source": [
    "%pip install weaviate-client langchain==0.0.240 --quiet"
   ]
  },
  {
   "cell_type": "code",
   "execution_count": null,
   "id": "65029ef5-c714-496a-a523-e43f2fa8c427",
   "metadata": {
    "tags": []
   },
   "outputs": [],
   "source": [
    "from langchain.vectorstores.weaviate import Weaviate\n",
    "from langchain.retrievers.weaviate_hybrid_search import WeaviateHybridSearchRetriever\n",
    "import weaviate"
   ]
  },
  {
   "cell_type": "code",
   "execution_count": null,
   "id": "be5514de-2c14-4433-91ea-18992b010b43",
   "metadata": {
    "tags": []
   },
   "outputs": [],
   "source": [
    "wv_client = weaviate.Client(url=\"http://k8s-weaviate-weaviate-f1e22650f9-583768105cf15612.elb.us-west-2.amazonaws.com\") # TODO - add to env vars"
   ]
  },
  {
   "cell_type": "code",
   "execution_count": null,
   "id": "81bdf26a-faba-4c08-a9ca-3c6e39317914",
   "metadata": {
    "tags": []
   },
   "outputs": [],
   "source": [
    "# create a retriever\n",
    "wv_vectorstore = Weaviate(\n",
    "    client=wv_client,\n",
    "    index_name='Article',\n",
    "    text_key='content',\n",
    "    attributes=['title', 'url', 'c_access']\n",
    ")"
   ]
  },
  {
   "cell_type": "code",
   "execution_count": null,
   "id": "7891de34-1f48-4430-abb8-d41238187eb0",
   "metadata": {
    "tags": []
   },
   "outputs": [],
   "source": [
    "wv_retriever = wv_vectorstore.as_retriever(search_kwargs={\"k\": 1})"
   ]
  },
  {
   "cell_type": "code",
   "execution_count": null,
   "id": "60ec7848-1560-401e-b829-ad9484a7c526",
   "metadata": {
    "tags": []
   },
   "outputs": [],
   "source": [
    "wv_retriever.get_relevant_documents(\n",
    "    query=\"what is versailles?\"\n",
    ")"
   ]
  },
  {
   "cell_type": "code",
   "execution_count": null,
   "id": "e6c6df87-8d3c-48e6-b659-4b2988d52b44",
   "metadata": {
    "tags": []
   },
   "outputs": [],
   "source": [
    "# create a hybrid retriever (bm25 + semantic)\n",
    "\n",
    "wv_hybrid_retriever = WeaviateHybridSearchRetriever(\n",
    "    client=wv_client,\n",
    "    index_name='Article',\n",
    "    text_key='content',\n",
    "    attributes=['title', 'url', 'c_access'],\n",
    "    alpha=0.5,\n",
    "    k=1,\n",
    "    create_schema_if_missing=True,\n",
    ")"
   ]
  },
  {
   "cell_type": "code",
   "execution_count": null,
   "id": "543199b2-c433-43da-bc10-af2247f7c82d",
   "metadata": {
    "tags": []
   },
   "outputs": [],
   "source": [
    "wv_hybrid_retriever.get_relevant_documents(\n",
    "    query=\"what is versailles?\"\n",
    ")"
   ]
  },
  {
   "cell_type": "code",
   "execution_count": null,
   "id": "727e1eb0-554c-404d-8643-f8952612c46f",
   "metadata": {
    "tags": []
   },
   "outputs": [],
   "source": [
    "# add a metadata filter\n",
    "wv_hybrid_retriever.get_relevant_documents(\n",
    "    query=\"what is versailles?\",\n",
    "    where_filter={\n",
    "        \"path\": [\"c_access\"],\n",
    "        \"operator\": \"Equal\",\n",
    "        \"valueText\": \"sports\"\n",
    "    },\n",
    ")"
   ]
  },
  {
   "cell_type": "code",
   "execution_count": null,
   "id": "1b0839b3-dd69-486c-994a-6aab57ebfa14",
   "metadata": {},
   "outputs": [],
   "source": []
  }
 ],
 "metadata": {
  "kernelspec": {
   "display_name": "conda_python3",
   "language": "python",
   "name": "conda_python3"
  },
  "language_info": {
   "codemirror_mode": {
    "name": "ipython",
    "version": 3
   },
   "file_extension": ".py",
   "mimetype": "text/x-python",
   "name": "python",
   "nbconvert_exporter": "python",
   "pygments_lexer": "ipython3",
   "version": "3.10.10"
  }
 },
 "nbformat": 4,
 "nbformat_minor": 5
}
